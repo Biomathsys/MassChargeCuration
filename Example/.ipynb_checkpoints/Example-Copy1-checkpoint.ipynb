{
 "cells": [
  {
   "cell_type": "markdown",
   "id": "29347d68-52b6-41ca-8919-c1fcffccd490",
   "metadata": {},
   "source": [
    "# Usage example on model of _Corynebacterium tuberculostearicum (high GC Gram+)_.\n",
    "In this notebook we show how to use the Mass Charge Curation python package. As an example model we use a model of [_Corynebacterium tuberculostearicum (high GC Gram+)_, strain DSM 44922](https://www.ncbi.nlm.nih.gov/assembly/GCF_013408445.1/) created with [CarveMe Version 1.5.1](https://carveme.readthedocs.io/en/latest/index.html), which here is simply called _model.xml_."
   ]
  },
  {
   "cell_type": "markdown",
   "id": "4ad3aa7e-ac80-475a-b764-fb31a75c25c8",
   "metadata": {},
   "source": [
    "If you are interested in a more verbose output you can uncomment the following line:"
   ]
  },
  {
   "cell_type": "code",
   "execution_count": 1,
   "id": "73c6c72d-143f-4b8e-9c04-d6f575ed9a94",
   "metadata": {},
   "outputs": [],
   "source": [
    "import logging; logging.basicConfig(level=logging.INFO) "
   ]
  },
  {
   "cell_type": "markdown",
   "id": "26983d91-86d3-4c35-a3c5-9ad141ae6570",
   "metadata": {},
   "source": [
    "## Dependencies\n",
    "First we will check if all dependencies of the curation package are fullfilled."
   ]
  },
  {
   "cell_type": "code",
   "execution_count": 2,
   "id": "3699d7a1-7020-4cf7-8356-4c1c5d47ed64",
   "metadata": {},
   "outputs": [],
   "source": [
    "try: import numpy\n",
    "except Exception as e: print(\"You seem to be missing numpy. You can usually install it via 'pip install numpy'\"); raise e\n",
    "try: import pandas\n",
    "except Exception as e: print(\"You seem to be missing pandas. You can usually install it via 'pip install pandas'\"); raise e\n",
    "try: import cobra\n",
    "except Exception as e: print(\"You seem to be missing cobrapy. See https://github.com/opencobra/cobrapy on how to install it.\"); raise e\n",
    "try: import z3\n",
    "except Exception as e: print(\"You seem to be missing z3 or the corresponding python bindings. See https://github.com/Z3Prover/z3 on how to install it.\"); raise e"
   ]
  },
  {
   "cell_type": "markdown",
   "id": "33340a4e-40aa-4d4e-a6d5-1ab71c845196",
   "metadata": {},
   "source": [
    "Next we see if the Mass Charge Curation package is installed properly."
   ]
  },
  {
   "cell_type": "code",
   "execution_count": 3,
   "id": "ad28a5db-d29c-48e8-8b12-6c6e63d6d096",
   "metadata": {},
   "outputs": [],
   "source": [
    "try: import MCC\n",
    "except Exception as e: print(\"The mass charge curation package does not seem to be installed correctly. Make sure you have the correct python version installed and try running pip install -e ./.. in the folder of this notebook.\"); raise e"
   ]
  },
  {
   "cell_type": "markdown",
   "id": "2885ffdc-4a59-46e2-8d65-c8de6fec74c5",
   "metadata": {},
   "source": [
    "## Loading the model\n",
    "Once all dependencies are installed, we can take a look at our example model."
   ]
  },
  {
   "cell_type": "markdown",
   "id": "c6f30905-99c8-4861-bef7-00feb99d6655",
   "metadata": {},
   "source": [
    "First we will read in our model using cobrapy."
   ]
  },
  {
   "cell_type": "code",
   "execution_count": 4,
   "id": "994bdeab-19aa-4b3f-8a65-343b51cdc2e5",
   "metadata": {},
   "outputs": [
    {
     "name": "stdout",
     "output_type": "stream",
     "text": [
      "The model has 1019 metabolites and 1481 reactions.\n"
     ]
    }
   ],
   "source": [
    "model = cobra.io.read_sbml_model(\"model.xml\")\n",
    "print(f\"The model has {len(model.metabolites)} metabolites and {len(model.reactions)} reactions.\")"
   ]
  },
  {
   "cell_type": "markdown",
   "id": "fff4683a-441f-4202-bab3-24b2147ff894",
   "metadata": {},
   "source": [
    "We can first take a look at how many reactions in our model are unbalanced."
   ]
  },
  {
   "cell_type": "code",
   "execution_count": 5,
   "id": "6d953a36-40e2-4646-ba77-c174f609ad57",
   "metadata": {},
   "outputs": [
    {
     "ename": "AttributeError",
     "evalue": "'Reaction' object has no attribute 'getListOfProducts'",
     "output_type": "error",
     "traceback": [
      "\u001b[0;31m---------------------------------------------------------------------------\u001b[0m",
      "\u001b[0;31mAttributeError\u001b[0m                            Traceback (most recent call last)",
      "\u001b[0;32m<ipython-input-5-6d438aaef787>\u001b[0m in \u001b[0;36m<module>\u001b[0;34m\u001b[0m\n\u001b[0;32m----> 1\u001b[0;31m \u001b[0munbalanced_count\u001b[0m \u001b[0;34m=\u001b[0m \u001b[0msum\u001b[0m\u001b[0;34m(\u001b[0m\u001b[0;34m[\u001b[0m\u001b[0;32mnot\u001b[0m \u001b[0mMCC\u001b[0m\u001b[0;34m.\u001b[0m\u001b[0mis_balanced\u001b[0m\u001b[0;34m(\u001b[0m\u001b[0mreaction\u001b[0m\u001b[0;34m)\u001b[0m \u001b[0;32mfor\u001b[0m \u001b[0mreaction\u001b[0m \u001b[0;32min\u001b[0m \u001b[0mmodel\u001b[0m\u001b[0;34m.\u001b[0m\u001b[0mreactions\u001b[0m\u001b[0;34m]\u001b[0m\u001b[0;34m)\u001b[0m\u001b[0;34m\u001b[0m\u001b[0;34m\u001b[0m\u001b[0m\n\u001b[0m\u001b[1;32m      2\u001b[0m \u001b[0mprint\u001b[0m\u001b[0;34m(\u001b[0m\u001b[0;34mf\"There are {unbalanced_count} unbalanced reactions in the original model.\"\u001b[0m\u001b[0;34m)\u001b[0m\u001b[0;34m\u001b[0m\u001b[0;34m\u001b[0m\u001b[0m\n",
      "\u001b[0;32m<ipython-input-5-6d438aaef787>\u001b[0m in \u001b[0;36m<listcomp>\u001b[0;34m(.0)\u001b[0m\n\u001b[0;32m----> 1\u001b[0;31m \u001b[0munbalanced_count\u001b[0m \u001b[0;34m=\u001b[0m \u001b[0msum\u001b[0m\u001b[0;34m(\u001b[0m\u001b[0;34m[\u001b[0m\u001b[0;32mnot\u001b[0m \u001b[0mMCC\u001b[0m\u001b[0;34m.\u001b[0m\u001b[0mis_balanced\u001b[0m\u001b[0;34m(\u001b[0m\u001b[0mreaction\u001b[0m\u001b[0;34m)\u001b[0m \u001b[0;32mfor\u001b[0m \u001b[0mreaction\u001b[0m \u001b[0;32min\u001b[0m \u001b[0mmodel\u001b[0m\u001b[0;34m.\u001b[0m\u001b[0mreactions\u001b[0m\u001b[0;34m]\u001b[0m\u001b[0;34m)\u001b[0m\u001b[0;34m\u001b[0m\u001b[0;34m\u001b[0m\u001b[0m\n\u001b[0m\u001b[1;32m      2\u001b[0m \u001b[0mprint\u001b[0m\u001b[0;34m(\u001b[0m\u001b[0;34mf\"There are {unbalanced_count} unbalanced reactions in the original model.\"\u001b[0m\u001b[0;34m)\u001b[0m\u001b[0;34m\u001b[0m\u001b[0;34m\u001b[0m\u001b[0m\n",
      "\u001b[0;32m~/Systems Biology HiWi/MassChargeCuration/MCC/util.py\u001b[0m in \u001b[0;36mis_balanced\u001b[0;34m(reaction, assignments, unknown_is_balanced)\u001b[0m\n\u001b[1;32m    300\u001b[0m     \u001b[0;32mif\u001b[0m \u001b[0munknown_is_balanced\u001b[0m\u001b[0;34m:\u001b[0m\u001b[0;34m\u001b[0m\u001b[0;34m\u001b[0m\u001b[0m\n\u001b[1;32m    301\u001b[0m         \u001b[0;32mpass\u001b[0m \u001b[0;31m#raise NotImplementedError\u001b[0m\u001b[0;34m\u001b[0m\u001b[0;34m\u001b[0m\u001b[0m\n\u001b[0;32m--> 302\u001b[0;31m     \u001b[0mbalance\u001b[0m \u001b[0;34m=\u001b[0m \u001b[0mcalculate_balance\u001b[0m\u001b[0;34m(\u001b[0m\u001b[0mreaction\u001b[0m\u001b[0;34m,\u001b[0m \u001b[0massignments\u001b[0m\u001b[0;34m)\u001b[0m\u001b[0;34m\u001b[0m\u001b[0;34m\u001b[0m\u001b[0m\n\u001b[0m\u001b[1;32m    303\u001b[0m     \u001b[0;32mreturn\u001b[0m \u001b[0mall\u001b[0m\u001b[0;34m(\u001b[0m\u001b[0mnp\u001b[0m\u001b[0;34m.\u001b[0m\u001b[0misclose\u001b[0m\u001b[0;34m(\u001b[0m\u001b[0mval\u001b[0m\u001b[0;34m,\u001b[0m \u001b[0;36m0\u001b[0m\u001b[0;34m)\u001b[0m \u001b[0;32mfor\u001b[0m \u001b[0mval\u001b[0m \u001b[0;32min\u001b[0m \u001b[0mbalance\u001b[0m\u001b[0;34m[\u001b[0m\u001b[0;34m\"mass\"\u001b[0m\u001b[0;34m]\u001b[0m\u001b[0;34m.\u001b[0m\u001b[0mvalues\u001b[0m\u001b[0;34m(\u001b[0m\u001b[0;34m)\u001b[0m\u001b[0;34m)\u001b[0m \u001b[0;32mand\u001b[0m \u001b[0;34m(\u001b[0m\u001b[0mnp\u001b[0m\u001b[0;34m.\u001b[0m\u001b[0misclose\u001b[0m\u001b[0;34m(\u001b[0m\u001b[0mbalance\u001b[0m\u001b[0;34m[\u001b[0m\u001b[0;34m\"charge\"\u001b[0m\u001b[0;34m]\u001b[0m\u001b[0;34m,\u001b[0m \u001b[0;36m0\u001b[0m\u001b[0;34m)\u001b[0m\u001b[0;34m)\u001b[0m\u001b[0;34m\u001b[0m\u001b[0;34m\u001b[0m\u001b[0m\n\u001b[1;32m    304\u001b[0m \u001b[0;34m\u001b[0m\u001b[0m\n",
      "\u001b[0;32m~/Systems Biology HiWi/MassChargeCuration/MCC/util.py\u001b[0m in \u001b[0;36mcalculate_balance\u001b[0;34m(reaction, assignments)\u001b[0m\n\u001b[1;32m    273\u001b[0m     \u001b[0mcharge_balance\u001b[0m \u001b[0;34m=\u001b[0m \u001b[0;36m0\u001b[0m\u001b[0;34m\u001b[0m\u001b[0;34m\u001b[0m\u001b[0m\n\u001b[1;32m    274\u001b[0m     \u001b[0mmass_dict\u001b[0m \u001b[0;34m=\u001b[0m \u001b[0;34m{\u001b[0m\u001b[0;34m}\u001b[0m\u001b[0;34m\u001b[0m\u001b[0;34m\u001b[0m\u001b[0m\n\u001b[0;32m--> 275\u001b[0;31m     \u001b[0;32mfor\u001b[0m \u001b[0mmetabolite_id\u001b[0m\u001b[0;34m,\u001b[0m \u001b[0mcoeff\u001b[0m \u001b[0;32min\u001b[0m \u001b[0mget_sbml_metabolites\u001b[0m\u001b[0;34m(\u001b[0m\u001b[0mreaction\u001b[0m\u001b[0;34m)\u001b[0m\u001b[0;34m.\u001b[0m\u001b[0mitems\u001b[0m\u001b[0;34m(\u001b[0m\u001b[0;34m)\u001b[0m\u001b[0;34m:\u001b[0m\u001b[0;34m\u001b[0m\u001b[0;34m\u001b[0m\u001b[0m\n\u001b[0m\u001b[1;32m    276\u001b[0m         \u001b[0;32mif\u001b[0m \u001b[0massignments\u001b[0m\u001b[0;34m:\u001b[0m\u001b[0;34m\u001b[0m\u001b[0;34m\u001b[0m\u001b[0m\n\u001b[1;32m    277\u001b[0m             \u001b[0mmass\u001b[0m \u001b[0;34m=\u001b[0m \u001b[0mformula_to_dict\u001b[0m\u001b[0;34m(\u001b[0m\u001b[0massignments\u001b[0m\u001b[0;34m[\u001b[0m\u001b[0mmetabolite_id\u001b[0m\u001b[0;34m]\u001b[0m\u001b[0;34m[\u001b[0m\u001b[0;36m0\u001b[0m\u001b[0;34m]\u001b[0m\u001b[0;34m)\u001b[0m \u001b[0;32mor\u001b[0m \u001b[0;34m{\u001b[0m\u001b[0;34m}\u001b[0m\u001b[0;34m\u001b[0m\u001b[0;34m\u001b[0m\u001b[0m\n",
      "\u001b[0;32m~/Systems Biology HiWi/MassChargeCuration/MCC/util.py\u001b[0m in \u001b[0;36mget_sbml_metabolites\u001b[0;34m(reaction)\u001b[0m\n\u001b[1;32m    536\u001b[0m \u001b[0;32mdef\u001b[0m \u001b[0mget_sbml_metabolites\u001b[0m\u001b[0;34m(\u001b[0m\u001b[0mreaction\u001b[0m\u001b[0;34m)\u001b[0m\u001b[0;34m:\u001b[0m\u001b[0;34m\u001b[0m\u001b[0;34m\u001b[0m\u001b[0m\n\u001b[1;32m    537\u001b[0m     \u001b[0mmetabolites\u001b[0m \u001b[0;34m=\u001b[0m \u001b[0;34m{\u001b[0m\u001b[0;34m}\u001b[0m\u001b[0;34m\u001b[0m\u001b[0;34m\u001b[0m\u001b[0m\n\u001b[0;32m--> 538\u001b[0;31m     \u001b[0;32mfor\u001b[0m \u001b[0mmetabolite\u001b[0m \u001b[0;32min\u001b[0m \u001b[0mreaction\u001b[0m\u001b[0;34m.\u001b[0m\u001b[0mgetListOfProducts\u001b[0m\u001b[0;34m(\u001b[0m\u001b[0;34m)\u001b[0m\u001b[0;34m:\u001b[0m\u001b[0;34m\u001b[0m\u001b[0;34m\u001b[0m\u001b[0m\n\u001b[0m\u001b[1;32m    539\u001b[0m         \u001b[0mmetabolites\u001b[0m\u001b[0;34m[\u001b[0m\u001b[0mmetabolite\u001b[0m\u001b[0;34m.\u001b[0m\u001b[0mspecies\u001b[0m\u001b[0;34m[\u001b[0m\u001b[0;36m2\u001b[0m\u001b[0;34m:\u001b[0m\u001b[0;34m]\u001b[0m\u001b[0;34m]\u001b[0m \u001b[0;34m=\u001b[0m \u001b[0mmetabolite\u001b[0m\u001b[0;34m.\u001b[0m\u001b[0mstoichiometry\u001b[0m\u001b[0;34m\u001b[0m\u001b[0;34m\u001b[0m\u001b[0m\n\u001b[1;32m    540\u001b[0m     \u001b[0;32mfor\u001b[0m \u001b[0mmetabolite\u001b[0m \u001b[0;32min\u001b[0m \u001b[0mreaction\u001b[0m\u001b[0;34m.\u001b[0m\u001b[0mgetListOfReactants\u001b[0m\u001b[0;34m(\u001b[0m\u001b[0;34m)\u001b[0m\u001b[0;34m:\u001b[0m\u001b[0;34m\u001b[0m\u001b[0;34m\u001b[0m\u001b[0m\n",
      "\u001b[0;31mAttributeError\u001b[0m: 'Reaction' object has no attribute 'getListOfProducts'"
     ]
    }
   ],
   "source": [
    "unbalanced_count = sum([not MCC.is_balanced(reaction) for reaction in model.reactions])\n",
    "print(f\"There are {unbalanced_count} unbalanced reactions in the original model.\")"
   ]
  },
  {
   "cell_type": "code",
   "execution_count": null,
   "id": "43c5d42a",
   "metadata": {},
   "outputs": [],
   "source": [
    "getListOfProducts"
   ]
  },
  {
   "cell_type": "markdown",
   "id": "f05edb6b-6a6c-402c-9f5c-a059c057241a",
   "metadata": {},
   "source": [
    "Out of those there are usually around 100-300 pseudo reactions, which cannot be balanced by definition."
   ]
  },
  {
   "cell_type": "code",
   "execution_count": null,
   "id": "35a72c20-33a6-47a8-aa31-ced5bc4381c1",
   "metadata": {},
   "outputs": [],
   "source": [
    "pseudo_count = len(MCC.get_pseudo_reactions(model))\n",
    "print(f\"There are {pseudo_count} pseudo reactions in the original model.\")\n",
    "print(f\"There are {unbalanced_count - pseudo_count} unbalanced non-pseudo reactions in the original model.\")"
   ]
  },
  {
   "cell_type": "markdown",
   "id": "78d81cb1-30b3-41cf-9aca-fe62a5a522d9",
   "metadata": {},
   "source": [
    "Our goal will be to find most plausible assignments to the models metabolites such that we reduce this number of 251 unbalanced non-pseudo reactions to its minimum."
   ]
  },
  {
   "cell_type": "markdown",
   "id": "d6522a48-e293-4bb0-a2a7-c24a7eacef7a",
   "metadata": {},
   "source": [
    "## Curating Mass and Charge\n",
    "We can now instantiate a curation class. There are different ways to use the package, depending how data should be gathered, how much curation has already been done and how much data is available offline.\n",
    "\n",
    "We will first give an example of the most simple usage, downloading as many databases as possible and updating all [identifiers.org](https://identifiers.org/) identifiers we need for the package to work optimally. This will take significantly longer (~ 15 Minutes) than running the algorithm on an already annotated model, however it is important to use the most up-to-date identifiers if we want to include as much information as possible.\n",
    "\n",
    "This will create a folder _/data_ in the current directory where all database information is downloaded to.\n",
    "\n",
    "The arguments are as follows:\n",
    "* **model**: Model we want to curate.\n",
    "* **data_path**: Path to the directory containing database files. Defaults to _/data_. If the directory does not exist, it will be created. If a file cannot be found, we will try to download it. \n",
    "* **update_ids**: If this is set to _True_, we will first try to update all [identifiers.org](https://identifiers.org/) ids. This will take a while but is important to properly index the different databases. Defaults to _False_. \n",
    "\n",
    "**Note**: It is expected to see _No objective coefficients in model. Unclear what should be optimized_ warnings here, this poses no problem for this package."
   ]
  },
  {
   "cell_type": "code",
   "execution_count": null,
   "id": "28f066df",
   "metadata": {},
   "outputs": [],
   "source": [
    "import libsbml\n",
    "filename = \"model.xml\"\n",
    "reader = libsbml.SBMLReader()\n",
    "document = reader.readSBML(filename)\n",
    "model = document.getModel()"
   ]
  },
  {
   "cell_type": "code",
   "execution_count": null,
   "id": "d0823a67-0115-4386-a1fc-c3e162dd09c6",
   "metadata": {
    "tags": []
   },
   "outputs": [],
   "source": [
    "balancer = MCC.MassChargeCuration(model = model, data_path = \"./data\", update_ids = True)"
   ]
  },
  {
   "cell_type": "markdown",
   "id": "acb57bef-eb6c-4ff0-8497-07dcdc4fb1bc",
   "metadata": {},
   "source": [
    "If you have access (currently requires an explicit academic license or a subscription) and downloaded the BioCyc flat files, you can pass the corresponding directory as well. Assuming we have already updated all the ids in the last step, we can set _update_ids_ to _False_.\n",
    "\n",
    "The additional argument is:\n",
    "* **biocyc_path**: Directory containing BioCyc flat files."
   ]
  },
  {
   "cell_type": "code",
   "execution_count": null,
   "id": "8c53fdd1-92ec-432f-8fb5-dd4b79afa2d7",
   "metadata": {},
   "outputs": [],
   "source": [
    "balancer_BioCyc = MCC.MassChargeCuration(model = model, data_path = \"./data\", update_ids = False, biocyc_path = \"./data/23.5/data\")"
   ]
  },
  {
   "cell_type": "markdown",
   "id": "869e5e59-93f2-4e66-88b6-130cea9ae10e",
   "metadata": {},
   "source": [
    "## Evaluating the result\n",
    "To see the results at a first glance, we can generate a quick visual report, which tells us how many reactions are balanced now, and how many assignments were changed."
   ]
  },
  {
   "cell_type": "code",
   "execution_count": null,
   "id": "18e548a1-2d9d-4a64-8321-f8a06ab03e4c",
   "metadata": {},
   "outputs": [],
   "source": [
    "balancer.generate_visual_report().show()"
   ]
  },
  {
   "cell_type": "markdown",
   "id": "903e589c-9a42-4378-85e8-cedd6aca5555",
   "metadata": {},
   "source": [
    "### Metabolite Report\n",
    "The algorithm should be able to give a reason for every assignment that it chooses. We can have a look at these reasons in the metabolite report of the balancer.\n",
    "\n",
    "The report holds valuable information how the algorithm decided which assignment to choose and can be useful during further manual curation. The entries of the resulting DataFrame are the following:\n",
    "* **Id**: Id of the metabolite in the model.\n",
    "* **Name**: Name of the metabolite in the model.\n",
    "* **Determined Formula**: Formula that was assigned by the algorithm.\n",
    "* **Determined Charge**: Charge that was assigned by the algorithm.\n",
    "* **Previous Formula**: Formula that was assigned before the algorithm.\n",
    "* **Previous Charge**: Charge that was assigned before the algorithm.\n",
    "* **Inferrence Type**: Category of how the assignment was determined.\n",
    "    - Unconstrained: No information about the metabolite was found or only incomplete (wildcard containing) formulae were found and we could not find a concrete formula either. Should contain a wildcard.\n",
    "    - Inferred: No information about the metabolite was found or only incomplete (wildcard containing formulae were found, however we arrived at a concrete formula. Should not contain a wildcard.\n",
    "    - Clean: Information about the metabolite was found and used.\n",
    "* **Reasoning**: Reasoning how the assignment was determined. Can contain:\n",
    "    - database name:database identifier: The formula could be found in this database under this identifier.\n",
    "    - (unconstrained) Target: This assignment was chosen because it is the same as in the original (target) model. Unconstrained means that the original (target) model seemed to be missing a wildcard symbol that was thus added.\n",
    "    - Reaction_id (metabolite id -> Reasoning...): The assignment for this metabolite must follow from other reasons. The given reaction id and metabolite reasons make it so that if the model must be balanced, this metabolite must have the determined assignment.\n",
    "    - Used Databases: The databases which back up the determined assignment.\n",
    "    - Previous Databases: The databases which back up the previous assignment."
   ]
  },
  {
   "cell_type": "code",
   "execution_count": null,
   "id": "4d9d2df1-2413-422f-a402-d25c69e27cf4",
   "metadata": {
    "tags": []
   },
   "outputs": [],
   "source": [
    "metabolite_report_df = balancer.generate_metabolite_report()\n",
    "metabolite_report_df[::200]"
   ]
  },
  {
   "cell_type": "markdown",
   "id": "292a65e7-f364-4bdd-8134-9b9764d8a79c",
   "metadata": {},
   "source": [
    "Usually we are interested in the assignments which differ from the original report. We can do this by indexing the Dataframe accordingly."
   ]
  },
  {
   "cell_type": "code",
   "execution_count": null,
   "id": "5bb1b358-6a9f-45f5-a4c2-ae85c54ae695",
   "metadata": {
    "tags": []
   },
   "outputs": [],
   "source": [
    "# If you like to see the entire report, uncomment the following line\n",
    "#pandas.set_option(\"display.max_row\", None)\n",
    "metabolite_report_df[metabolite_report_df[\"Similarity\"] != \"Same\"]"
   ]
  },
  {
   "cell_type": "markdown",
   "id": "31f559df-329d-4cc8-9b65-1ce6711f432f",
   "metadata": {},
   "source": [
    "We might also be interested in all assignments which are not backed by a database:"
   ]
  },
  {
   "cell_type": "code",
   "execution_count": null,
   "id": "afeed4e7-e720-4628-9cb4-770d5a25ea39",
   "metadata": {},
   "outputs": [],
   "source": [
    "metabolite_report_df[metabolite_report_df[\"Used Databases\"] == \"\"]"
   ]
  },
  {
   "cell_type": "markdown",
   "id": "e18e1ca0-d1b6-402a-a856-f8a080a0d929",
   "metadata": {},
   "source": [
    "### Reaction Report\n",
    "Finally, especially for further curation, we might be interested in the remaining imbalanced reactions. For this the algorithm can also provide a report.\n",
    "\n",
    "The report also includes reactions which are technically balanced but where many protons had to be added to arrive at that result.\n",
    "\n",
    "The fields are as follows:\n",
    "* **Id**: Id of the reaction in the model.\n",
    "* **Unbalanced Reaction**: Name of the reaction in the model and corresponding equation.\n",
    "* **Unbalanced Type**: Type of imbalance. Can be both Mass and charge, only mass, only charge or high proton count.\n",
    "* **Reason**: Set of reactions which caused the reaction to be imbalanced. This effectively means that these reactions could not be balanced together. The sets are minimal, but for example for BTS2, it would not help to remove HCYSMT, as BTS2 would require protons to have no charge and HCYSMT is only one of many reactions which then would not be balanced.\n",
    "* **Shared Metabolites**: Metabolites which are shared between the reactions which are listed in Reason. Can give an indication where the problem might lie.\n",
    "* **Mass Difference**: Mass imbalance.\n",
    "* **Charge Difference**: Charge imbalance."
   ]
  },
  {
   "cell_type": "code",
   "execution_count": null,
   "id": "0eed890c-2bc9-456b-b4b7-5edaef1bb84a",
   "metadata": {},
   "outputs": [],
   "source": [
    "balancer.generate_reaction_report()"
   ]
  },
  {
   "cell_type": "markdown",
   "id": "7ae16dc6-a0aa-48ea-b676-9c43a98f142a",
   "metadata": {},
   "source": [
    "### Writing Files\n",
    "The mass charge curation writes directly to the model that was given to it. Thus, if we want to write our model, we can just pass the model to cobrapy. If you want to keep your old model, you should make sure to not overwrite it here."
   ]
  },
  {
   "cell_type": "code",
   "execution_count": null,
   "id": "752a82d6-6850-4f67-b91d-1377727659a3",
   "metadata": {},
   "outputs": [],
   "source": [
    "cobra.io.write_sbml_model(model, f\"{model.id}_MCC.xml\")"
   ]
  },
  {
   "cell_type": "markdown",
   "id": "d71ff901-d472-428f-9bcd-5c536e9b6528",
   "metadata": {},
   "source": [
    "For the reports, we can add filenames to the functions to write the visual report to a .png file and the metabolite and reaction DataFrames to .csv files."
   ]
  },
  {
   "cell_type": "code",
   "execution_count": null,
   "id": "1c5819b2-2e1a-4fe9-95b8-bf0a8de02c39",
   "metadata": {},
   "outputs": [],
   "source": [
    "balancer.generate_visual_report(f\"{model.id}_visual\")\n",
    "balancer.generate_metabolite_report(f\"{model.id}_metabolites\")\n",
    "balancer.generate_reaction_report(f\"{model.id}_reactions\")\n",
    "pass"
   ]
  }
 ],
 "metadata": {
  "kernelspec": {
   "display_name": "Python 3",
   "language": "python",
   "name": "python3"
  },
  "language_info": {
   "codemirror_mode": {
    "name": "ipython",
    "version": 3
   },
   "file_extension": ".py",
   "mimetype": "text/x-python",
   "name": "python",
   "nbconvert_exporter": "python",
   "pygments_lexer": "ipython3",
   "version": "3.8.12"
  }
 },
 "nbformat": 4,
 "nbformat_minor": 5
}
