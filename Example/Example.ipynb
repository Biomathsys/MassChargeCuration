{
 "cells": [
  {
   "cell_type": "markdown",
   "id": "29347d68-52b6-41ca-8919-c1fcffccd490",
   "metadata": {},
   "source": [
    "# Usage example on model of _Corynebacterium tuberculostearicum (high GC Gram+)_.\n",
    "In this notebook we show how to use the Mass Charge Curation python package. As an example model we use a model of [_Corynebacterium tuberculostearicum (high GC Gram+)_, strain DSM 44922](https://www.ncbi.nlm.nih.gov/assembly/GCF_013408445.1/) created with [CarveMe Version 1.5.1](https://carveme.readthedocs.io/en/latest/index.html), which here is simply called _model.xml_."
   ]
  },
  {
   "cell_type": "markdown",
   "id": "4ad3aa7e-ac80-475a-b764-fb31a75c25c8",
   "metadata": {},
   "source": [
    "If you are interested in a more verbose output you can uncomment the following line:"
   ]
  },
  {
   "cell_type": "code",
   "execution_count": 1,
   "id": "73c6c72d-143f-4b8e-9c04-d6f575ed9a94",
   "metadata": {},
   "outputs": [],
   "source": [
    "#import logging; logging.basicConfig(format='%(levelname)s: %(filename)s %(lineno)d, %(funcName)s: %(message)s', level=logging.INFO) "
   ]
  },
  {
   "cell_type": "markdown",
   "id": "26983d91-86d3-4c35-a3c5-9ad141ae6570",
   "metadata": {},
   "source": [
    "## Dependencies\n",
    "First we will check if all dependencies of the curation package are fullfilled."
   ]
  },
  {
   "cell_type": "code",
   "execution_count": 2,
   "id": "3699d7a1-7020-4cf7-8356-4c1c5d47ed64",
   "metadata": {},
   "outputs": [],
   "source": [
    "try: import numpy\n",
    "except Exception as e: print(\"You seem to be missing numpy. You can usually install it via 'pip install numpy'\"); raise e\n",
    "try: import pandas\n",
    "except Exception as e: print(\"You seem to be missing pandas. You can usually install it via 'pip install pandas'\"); raise e\n",
    "try: import requests\n",
    "except Exception as e: print(\"You seem to be missing requests. You can usually install it via 'pip install requests'\"); raise e\n",
    "try: import matplotlib\n",
    "except Exception as e: print(\"You seem to be missing matplotlib. You can usually install it via 'pip install matplotlib'\"); raise e\n",
    "try: import z3\n",
    "except Exception as e: print(\"You seem to be missing z3 or the corresponding python bindings. See https://github.com/Z3Prover/z3 on how to install it.\"); raise e"
   ]
  },
  {
   "cell_type": "markdown",
   "id": "33340a4e-40aa-4d4e-a6d5-1ab71c845196",
   "metadata": {},
   "source": [
    "Next we see if the Mass Charge Curation package is installed properly."
   ]
  },
  {
   "cell_type": "code",
   "execution_count": 3,
   "id": "ad28a5db-d29c-48e8-8b12-6c6e63d6d096",
   "metadata": {},
   "outputs": [],
   "source": [
    "try: import MCC\n",
    "except Exception as e: print(\"The mass charge curation package does not seem to be installed correctly. Make sure you have the correct python version installed and try running pip install -e ./.. in the folder of this notebook.\"); raise e"
   ]
  },
  {
   "cell_type": "markdown",
   "id": "08cd7b85-da78-4f8b-938c-6648cc76b66b",
   "metadata": {},
   "source": [
    "## Setting input path\n",
    "We can use the package with different type of models. Depending on what else we intend to do with the model we can already read it in using libsbml or cobraPy or immediatly pass in the path of the model (This will cause the module to read it in itself using libsbml)."
   ]
  },
  {
   "cell_type": "code",
   "execution_count": 4,
   "id": "0125d802-f6d1-4897-9901-2c09123848db",
   "metadata": {},
   "outputs": [
    {
     "name": "stdout",
     "output_type": "stream",
     "text": [
      "model.xml\n"
     ]
    }
   ],
   "source": [
    "model = \"model.xml\"\n",
    "\n",
    "# Alternatives:\n",
    "# reading in the model beforehand using libsbml:\n",
    "'''\n",
    "import libsbml\n",
    "reader = libsbml.SBMLReader()\n",
    "document = reader.readSBML(model)\n",
    "model = document.getModel()\n",
    "'''\n",
    "# reading in the model beforehand using cobraPy:\n",
    "'''\n",
    "import cobra\n",
    "model = cobra.io.read_sbml_model(model)\n",
    "'''\n",
    "print(model)"
   ]
  },
  {
   "cell_type": "markdown",
   "id": "2ff88b47-42e0-4476-8688-0cd71addde2c",
   "metadata": {},
   "source": [
    "## Basic Model Information\n",
    "First we can take a quick look at the model using the module ModelInterface class:"
   ]
  },
  {
   "cell_type": "code",
   "execution_count": 5,
   "id": "f77dd794-5e35-4cab-aa83-e9cccaafc62b",
   "metadata": {},
   "outputs": [
    {
     "name": "stdout",
     "output_type": "stream",
     "text": [
      "The model has 1019 metabolites and 1481 reactions.\n",
      "There are 446 unbalanced reactions with 196 pseudo reactions.\n"
     ]
    }
   ],
   "source": [
    "mi = MCC.ModelInterface(model)\n",
    "print(f\"The model has {len(mi.metabolites)} metabolites and {len(mi.reactions)} reactions.\")\n",
    "unbalanced_reactions = [r_id for r_id, r in mi.reactions.items() if (not r.is_balanced())]\n",
    "print(f\"There are {len(unbalanced_reactions)} unbalanced reactions with {len(mi.get_pseudo_reactions())} pseudo reactions.\")"
   ]
  },
  {
   "cell_type": "markdown",
   "id": "d6522a48-e293-4bb0-a2a7-c24a7eacef7a",
   "metadata": {},
   "source": [
    "## Curating Mass and Charge\n",
    "We can now instantiate a curation class. There are different ways to use the package, depending how data should be gathered, how much curation has already been done and how much data is available offline.\n",
    "\n",
    "We will first give an example of the most simple usage, downloading as many databases as possible and updating all [identifiers.org](https://identifiers.org/) identifiers we need for the package to work optimally. This will take significantly longer (**~ 15 Minutes**) than running the algorithm on an already annotated model, however it is important to use the most up-to-date identifiers if we want to include as much information as possible.\n",
    "\n",
    "This will create a folder _/data_ in the current directory where all database information is downloaded to.\n",
    "\n",
    "The arguments are as follows:\n",
    "* **model**: Model we want to curate.\n",
    "* **data_path**: Path to the directory containing database files. Defaults to _/data_. If the directory does not exist, it will be created. If a file cannot be found, we will try to download it. \n",
    "* **update_ids**: If this is set to _True_, we will first try to update all [identifiers.org](https://identifiers.org/) ids. This will take a while but is important to properly index the different databases. Defaults to _False_. \n",
    "\n",
    "**Note**: It is expected to see _No objective coefficients in model. Unclear what should be optimized_ warnings here, this poses no problem for this package."
   ]
  },
  {
   "cell_type": "code",
   "execution_count": 6,
   "id": "4556159c-7168-46a4-b82b-e434fcb292d4",
   "metadata": {
    "tags": []
   },
   "outputs": [
    {
     "ename": "KeyboardInterrupt",
     "evalue": "",
     "output_type": "error",
     "traceback": [
      "\u001b[0;31m---------------------------------------------------------------------------\u001b[0m",
      "\u001b[0;31mKeyboardInterrupt\u001b[0m                         Traceback (most recent call last)",
      "\u001b[0;32m<ipython-input-6-7b653cb3191e>\u001b[0m in \u001b[0;36m<module>\u001b[0;34m\u001b[0m\n\u001b[0;32m----> 1\u001b[0;31m \u001b[0mbalancer\u001b[0m \u001b[0;34m=\u001b[0m \u001b[0mMCC\u001b[0m\u001b[0;34m.\u001b[0m\u001b[0mMassChargeCuration\u001b[0m\u001b[0;34m(\u001b[0m\u001b[0mmodel\u001b[0m \u001b[0;34m=\u001b[0m \u001b[0mmodel\u001b[0m\u001b[0;34m,\u001b[0m \u001b[0mdata_path\u001b[0m \u001b[0;34m=\u001b[0m \u001b[0;34m\"./data\"\u001b[0m\u001b[0;34m,\u001b[0m \u001b[0mrun_optimization\u001b[0m \u001b[0;34m=\u001b[0m \u001b[0;32mTrue\u001b[0m\u001b[0;34m,\u001b[0m \u001b[0mupdate_ids\u001b[0m \u001b[0;34m=\u001b[0m \u001b[0;32mFalse\u001b[0m\u001b[0;34m)\u001b[0m\u001b[0;34m\u001b[0m\u001b[0;34m\u001b[0m\u001b[0m\n\u001b[0m",
      "\u001b[0;32m~/Systems Biology HiWi/MassChargeCuration/MCC/Balancing/MCC.py\u001b[0m in \u001b[0;36m__init__\u001b[0;34m(self, model, data_collector, data_path, fixed_assignments, fixed_reactions, run_optimization, **kw)\u001b[0m\n\u001b[1;32m     24\u001b[0m         \u001b[0mself\u001b[0m\u001b[0;34m.\u001b[0m\u001b[0mpseudo_reactions\u001b[0m \u001b[0;34m=\u001b[0m \u001b[0mself\u001b[0m\u001b[0;34m.\u001b[0m\u001b[0mmodel_interface\u001b[0m\u001b[0;34m.\u001b[0m\u001b[0mget_pseudo_reactions\u001b[0m\u001b[0;34m(\u001b[0m\u001b[0;34m)\u001b[0m\u001b[0;34m\u001b[0m\u001b[0;34m\u001b[0m\u001b[0m\n\u001b[1;32m     25\u001b[0m         \u001b[0mself\u001b[0m\u001b[0;34m.\u001b[0m\u001b[0moriginal_model_interface\u001b[0m \u001b[0;34m=\u001b[0m \u001b[0mself\u001b[0m\u001b[0;34m.\u001b[0m\u001b[0mmodel_interface\u001b[0m\u001b[0;34m.\u001b[0m\u001b[0mcopy\u001b[0m\u001b[0;34m(\u001b[0m\u001b[0;34m)\u001b[0m\u001b[0;34m\u001b[0m\u001b[0;34m\u001b[0m\u001b[0m\n\u001b[0;32m---> 26\u001b[0;31m         \u001b[0mself\u001b[0m\u001b[0;34m.\u001b[0m\u001b[0mdata_collector\u001b[0m \u001b[0;34m=\u001b[0m \u001b[0mDataCollector\u001b[0m\u001b[0;34m(\u001b[0m\u001b[0mmodel\u001b[0m\u001b[0;34m,\u001b[0m \u001b[0mdata_path\u001b[0m\u001b[0;34m,\u001b[0m \u001b[0;34m**\u001b[0m\u001b[0mkw\u001b[0m\u001b[0;34m)\u001b[0m \u001b[0;32mif\u001b[0m \u001b[0mdata_collector\u001b[0m \u001b[0;32mis\u001b[0m \u001b[0;32mNone\u001b[0m \u001b[0;32melse\u001b[0m \u001b[0mdata_collector\u001b[0m\u001b[0;34m\u001b[0m\u001b[0;34m\u001b[0m\u001b[0m\n\u001b[0m\u001b[1;32m     27\u001b[0m         \u001b[0mself\u001b[0m\u001b[0;34m.\u001b[0m\u001b[0mfixed_assignments\u001b[0m \u001b[0;34m=\u001b[0m \u001b[0mfixed_assignments\u001b[0m\u001b[0;34m\u001b[0m\u001b[0;34m\u001b[0m\u001b[0m\n\u001b[1;32m     28\u001b[0m         \u001b[0mself\u001b[0m\u001b[0;34m.\u001b[0m\u001b[0mproton_adjusted_reactions\u001b[0m \u001b[0;34m=\u001b[0m \u001b[0;34m{\u001b[0m\u001b[0;34m}\u001b[0m\u001b[0;34m\u001b[0m\u001b[0;34m\u001b[0m\u001b[0m\n",
      "\u001b[0;32m~/Systems Biology HiWi/MassChargeCuration/MCC/DataCollection/DataCollection.py\u001b[0m in \u001b[0;36m__init__\u001b[0;34m(self, model, data_path, update_ids, gather_information, used_annotations, no_local, biocyc_path)\u001b[0m\n\u001b[1;32m     57\u001b[0m             \u001b[0mself\u001b[0m\u001b[0;34m.\u001b[0m\u001b[0mget_all_ids\u001b[0m\u001b[0;34m(\u001b[0m\u001b[0;34m)\u001b[0m\u001b[0;34m\u001b[0m\u001b[0;34m\u001b[0m\u001b[0m\n\u001b[1;32m     58\u001b[0m         \u001b[0;32mif\u001b[0m \u001b[0mgather_information\u001b[0m\u001b[0;34m:\u001b[0m\u001b[0;34m\u001b[0m\u001b[0;34m\u001b[0m\u001b[0m\n\u001b[0;32m---> 59\u001b[0;31m             \u001b[0mself\u001b[0m\u001b[0;34m.\u001b[0m\u001b[0mgather_info\u001b[0m\u001b[0;34m(\u001b[0m\u001b[0;34m)\u001b[0m\u001b[0;34m\u001b[0m\u001b[0;34m\u001b[0m\u001b[0m\n\u001b[0m\u001b[1;32m     60\u001b[0m \u001b[0;34m\u001b[0m\u001b[0m\n\u001b[1;32m     61\u001b[0m     \u001b[0;32mdef\u001b[0m \u001b[0m_load_default_interfaces\u001b[0m\u001b[0;34m(\u001b[0m\u001b[0mself\u001b[0m\u001b[0;34m,\u001b[0m \u001b[0mdata_path\u001b[0m\u001b[0;34m,\u001b[0m \u001b[0mbiocyc_path\u001b[0m \u001b[0;34m=\u001b[0m \u001b[0;32mNone\u001b[0m\u001b[0;34m)\u001b[0m\u001b[0;34m:\u001b[0m\u001b[0;34m\u001b[0m\u001b[0;34m\u001b[0m\u001b[0m\n",
      "\u001b[0;32m~/Systems Biology HiWi/MassChargeCuration/MCC/DataCollection/DataCollection.py\u001b[0m in \u001b[0;36mgather_info\u001b[0;34m(self)\u001b[0m\n\u001b[1;32m    136\u001b[0m         \u001b[0;32mfor\u001b[0m \u001b[0mi\u001b[0m\u001b[0;34m,\u001b[0m \u001b[0mmetabolite\u001b[0m \u001b[0;32min\u001b[0m \u001b[0menumerate\u001b[0m\u001b[0;34m(\u001b[0m\u001b[0mself\u001b[0m\u001b[0;34m.\u001b[0m\u001b[0mmodel_interface\u001b[0m\u001b[0;34m.\u001b[0m\u001b[0mmetabolites\u001b[0m\u001b[0;34m.\u001b[0m\u001b[0mvalues\u001b[0m\u001b[0;34m(\u001b[0m\u001b[0;34m)\u001b[0m\u001b[0;34m)\u001b[0m\u001b[0;34m:\u001b[0m\u001b[0;34m\u001b[0m\u001b[0;34m\u001b[0m\u001b[0m\n\u001b[1;32m    137\u001b[0m             \u001b[0mlogging\u001b[0m\u001b[0;34m.\u001b[0m\u001b[0minfo\u001b[0m\u001b[0;34m(\u001b[0m\u001b[0;34mf\"{i + 1}/{len(self.model_interface.metabolites)}: Getting information for {metabolite.id}\"\u001b[0m\u001b[0;34m)\u001b[0m\u001b[0;34m\u001b[0m\u001b[0;34m\u001b[0m\u001b[0m\n\u001b[0;32m--> 138\u001b[0;31m             \u001b[0mself\u001b[0m\u001b[0;34m.\u001b[0m\u001b[0massignments\u001b[0m\u001b[0;34m[\u001b[0m\u001b[0mmetabolite\u001b[0m\u001b[0;34m.\u001b[0m\u001b[0mid\u001b[0m\u001b[0;34m]\u001b[0m \u001b[0;34m=\u001b[0m \u001b[0mself\u001b[0m\u001b[0;34m.\u001b[0m\u001b[0mget_formulae\u001b[0m\u001b[0;34m(\u001b[0m\u001b[0mmetabolite\u001b[0m\u001b[0;34m)\u001b[0m\u001b[0;34m\u001b[0m\u001b[0;34m\u001b[0m\u001b[0m\n\u001b[0m\u001b[1;32m    139\u001b[0m \u001b[0;34m\u001b[0m\u001b[0m\n\u001b[1;32m    140\u001b[0m     \u001b[0;32mdef\u001b[0m \u001b[0mget_assignments\u001b[0m\u001b[0;34m(\u001b[0m\u001b[0mself\u001b[0m\u001b[0;34m,\u001b[0m \u001b[0mmetabolite\u001b[0m \u001b[0;34m:\u001b[0m \u001b[0mMetabolite\u001b[0m\u001b[0;34m,\u001b[0m \u001b[0mclean\u001b[0m \u001b[0;34m=\u001b[0m \u001b[0;32mTrue\u001b[0m\u001b[0;34m,\u001b[0m \u001b[0mpartial\u001b[0m \u001b[0;34m=\u001b[0m \u001b[0;32mTrue\u001b[0m\u001b[0;34m,\u001b[0m \u001b[0mdatabase_seperated\u001b[0m \u001b[0;34m=\u001b[0m \u001b[0;32mFalse\u001b[0m\u001b[0;34m)\u001b[0m\u001b[0;34m:\u001b[0m\u001b[0;34m\u001b[0m\u001b[0;34m\u001b[0m\u001b[0m\n",
      "\u001b[0;32m~/Systems Biology HiWi/MassChargeCuration/MCC/DataCollection/DataCollection.py\u001b[0m in \u001b[0;36mget_formulae\u001b[0;34m(self, metabolite)\u001b[0m\n\u001b[1;32m    107\u001b[0m             \u001b[0;32mfor\u001b[0m \u001b[0midentifier\u001b[0m \u001b[0;32min\u001b[0m \u001b[0mids\u001b[0m\u001b[0;34m:\u001b[0m\u001b[0;34m\u001b[0m\u001b[0;34m\u001b[0m\u001b[0m\n\u001b[1;32m    108\u001b[0m                 \u001b[0;32mtry\u001b[0m\u001b[0;34m:\u001b[0m\u001b[0;34m\u001b[0m\u001b[0;34m\u001b[0m\u001b[0m\n\u001b[0;32m--> 109\u001b[0;31m                     \u001b[0;32mif\u001b[0m \u001b[0;32mnot\u001b[0m \u001b[0;34m(\u001b[0m\u001b[0;34m(\u001b[0m\u001b[0mcur_assignments\u001b[0m \u001b[0;34m:=\u001b[0m \u001b[0minterface\u001b[0m\u001b[0;34m.\u001b[0m\u001b[0mget_assignments_by_id\u001b[0m\u001b[0;34m(\u001b[0m\u001b[0midentifier\u001b[0m\u001b[0;34m)\u001b[0m\u001b[0;34m)\u001b[0m \u001b[0;32mis\u001b[0m \u001b[0;32mNone\u001b[0m\u001b[0;34m)\u001b[0m\u001b[0;34m:\u001b[0m\u001b[0;34m\u001b[0m\u001b[0;34m\u001b[0m\u001b[0m\n\u001b[0m\u001b[1;32m    110\u001b[0m                         \u001b[0mlogging\u001b[0m\u001b[0;34m.\u001b[0m\u001b[0mdebug\u001b[0m\u001b[0;34m(\u001b[0m\u001b[0;34mf\"{db_id}, {identifier}\"\u001b[0m\u001b[0;34m)\u001b[0m\u001b[0;34m\u001b[0m\u001b[0;34m\u001b[0m\u001b[0m\n\u001b[1;32m    111\u001b[0m                         \u001b[0;32mfor\u001b[0m \u001b[0massignment\u001b[0m \u001b[0;32min\u001b[0m \u001b[0mcur_assignments\u001b[0m\u001b[0;34m:\u001b[0m\u001b[0;34m\u001b[0m\u001b[0;34m\u001b[0m\u001b[0m\n",
      "\u001b[0;32m~/Systems Biology HiWi/MassChargeCuration/MCC/DataCollection/Requests/BioCyc.py\u001b[0m in \u001b[0;36mget_assignments_by_id\u001b[0;34m(self, meta_id)\u001b[0m\n\u001b[1;32m     42\u001b[0m         \u001b[0mcharge\u001b[0m \u001b[0;34m=\u001b[0m \u001b[0mself\u001b[0m\u001b[0;34m.\u001b[0m\u001b[0mBioCyc_dict\u001b[0m\u001b[0;34m.\u001b[0m\u001b[0mget\u001b[0m\u001b[0;34m(\u001b[0m\u001b[0mmeta_id\u001b[0m\u001b[0;34m.\u001b[0m\u001b[0mreplace\u001b[0m\u001b[0;34m(\u001b[0m\u001b[0;34m\"META:\"\u001b[0m\u001b[0;34m,\u001b[0m \u001b[0;34m\"\"\u001b[0m\u001b[0;34m)\u001b[0m\u001b[0;34m,\u001b[0m \u001b[0;34m{\u001b[0m\u001b[0;34m}\u001b[0m\u001b[0;34m)\u001b[0m\u001b[0;34m.\u001b[0m\u001b[0mget\u001b[0m\u001b[0;34m(\u001b[0m\u001b[0;34m\"charge\"\u001b[0m\u001b[0;34m,\u001b[0m \u001b[0;32mNone\u001b[0m\u001b[0;34m)\u001b[0m\u001b[0;34m\u001b[0m\u001b[0;34m\u001b[0m\u001b[0m\n\u001b[1;32m     43\u001b[0m         \u001b[0;32mif\u001b[0m \u001b[0mformula\u001b[0m \u001b[0;32mis\u001b[0m \u001b[0;32mNone\u001b[0m\u001b[0;34m:\u001b[0m\u001b[0;34m\u001b[0m\u001b[0;34m\u001b[0m\u001b[0m\n\u001b[0;32m---> 44\u001b[0;31m             \u001b[0mresult\u001b[0m \u001b[0;34m=\u001b[0m \u001b[0mself\u001b[0m\u001b[0;34m.\u001b[0m\u001b[0mget_BioCyc_information\u001b[0m\u001b[0;34m(\u001b[0m\u001b[0mmeta_id\u001b[0m\u001b[0;34m)\u001b[0m\u001b[0;34m\u001b[0m\u001b[0;34m\u001b[0m\u001b[0m\n\u001b[0m\u001b[1;32m     45\u001b[0m             \u001b[0;32mif\u001b[0m \u001b[0mresult\u001b[0m \u001b[0;32mis\u001b[0m \u001b[0;32mNone\u001b[0m\u001b[0;34m:\u001b[0m \u001b[0;32mreturn\u001b[0m \u001b[0mresult\u001b[0m\u001b[0;34m\u001b[0m\u001b[0;34m\u001b[0m\u001b[0m\n\u001b[1;32m     46\u001b[0m             \u001b[0;32melse\u001b[0m\u001b[0;34m:\u001b[0m \u001b[0;32mreturn\u001b[0m \u001b[0;34m[\u001b[0m\u001b[0mresult\u001b[0m\u001b[0;34m]\u001b[0m\u001b[0;34m\u001b[0m\u001b[0;34m\u001b[0m\u001b[0m\n",
      "\u001b[0;32m~/Systems Biology HiWi/MassChargeCuration/MCC/DataCollection/Requests/BioCyc.py\u001b[0m in \u001b[0;36mget_BioCyc_information\u001b[0;34m(self, meta_id)\u001b[0m\n\u001b[1;32m     56\u001b[0m         \u001b[0mbase_url\u001b[0m \u001b[0;34m=\u001b[0m \u001b[0;34m'https://websvc.biocyc.org/getxml?{}&detail=low'\u001b[0m\u001b[0;34m\u001b[0m\u001b[0;34m\u001b[0m\u001b[0m\n\u001b[1;32m     57\u001b[0m         \u001b[0;32mtry\u001b[0m\u001b[0;34m:\u001b[0m\u001b[0;34m\u001b[0m\u001b[0;34m\u001b[0m\u001b[0m\n\u001b[0;32m---> 58\u001b[0;31m             \u001b[0manswer\u001b[0m \u001b[0;34m=\u001b[0m \u001b[0mrequests\u001b[0m\u001b[0;34m.\u001b[0m\u001b[0mget\u001b[0m\u001b[0;34m(\u001b[0m\u001b[0mbase_url\u001b[0m\u001b[0;34m.\u001b[0m\u001b[0mformat\u001b[0m\u001b[0;34m(\u001b[0m\u001b[0mmeta_id\u001b[0m\u001b[0;34m)\u001b[0m\u001b[0;34m)\u001b[0m\u001b[0;34m\u001b[0m\u001b[0;34m\u001b[0m\u001b[0m\n\u001b[0m\u001b[1;32m     59\u001b[0m             \u001b[0mlogging\u001b[0m\u001b[0;34m.\u001b[0m\u001b[0mdebug\u001b[0m\u001b[0;34m(\u001b[0m\u001b[0;34mf\"Could not find entry {meta_id} in local BioCyc file. Trying to fetch from {base_url.format(meta_id)}\"\u001b[0m\u001b[0;34m)\u001b[0m\u001b[0;34m\u001b[0m\u001b[0;34m\u001b[0m\u001b[0m\n\u001b[1;32m     60\u001b[0m             \u001b[0mxml_tree\u001b[0m \u001b[0;34m=\u001b[0m \u001b[0mET\u001b[0m\u001b[0;34m.\u001b[0m\u001b[0mfromstring\u001b[0m\u001b[0;34m(\u001b[0m\u001b[0manswer\u001b[0m\u001b[0;34m.\u001b[0m\u001b[0mtext\u001b[0m\u001b[0;34m)\u001b[0m\u001b[0;34m\u001b[0m\u001b[0;34m\u001b[0m\u001b[0m\n",
      "\u001b[0;32m~/miniconda3/envs/MCC/lib/python3.8/site-packages/requests/api.py\u001b[0m in \u001b[0;36mget\u001b[0;34m(url, params, **kwargs)\u001b[0m\n\u001b[1;32m     73\u001b[0m     \"\"\"\n\u001b[1;32m     74\u001b[0m \u001b[0;34m\u001b[0m\u001b[0m\n\u001b[0;32m---> 75\u001b[0;31m     \u001b[0;32mreturn\u001b[0m \u001b[0mrequest\u001b[0m\u001b[0;34m(\u001b[0m\u001b[0;34m'get'\u001b[0m\u001b[0;34m,\u001b[0m \u001b[0murl\u001b[0m\u001b[0;34m,\u001b[0m \u001b[0mparams\u001b[0m\u001b[0;34m=\u001b[0m\u001b[0mparams\u001b[0m\u001b[0;34m,\u001b[0m \u001b[0;34m**\u001b[0m\u001b[0mkwargs\u001b[0m\u001b[0;34m)\u001b[0m\u001b[0;34m\u001b[0m\u001b[0;34m\u001b[0m\u001b[0m\n\u001b[0m\u001b[1;32m     76\u001b[0m \u001b[0;34m\u001b[0m\u001b[0m\n\u001b[1;32m     77\u001b[0m \u001b[0;34m\u001b[0m\u001b[0m\n",
      "\u001b[0;32m~/miniconda3/envs/MCC/lib/python3.8/site-packages/requests/api.py\u001b[0m in \u001b[0;36mrequest\u001b[0;34m(method, url, **kwargs)\u001b[0m\n\u001b[1;32m     59\u001b[0m     \u001b[0;31m# cases, and look like a memory leak in others.\u001b[0m\u001b[0;34m\u001b[0m\u001b[0;34m\u001b[0m\u001b[0;34m\u001b[0m\u001b[0m\n\u001b[1;32m     60\u001b[0m     \u001b[0;32mwith\u001b[0m \u001b[0msessions\u001b[0m\u001b[0;34m.\u001b[0m\u001b[0mSession\u001b[0m\u001b[0;34m(\u001b[0m\u001b[0;34m)\u001b[0m \u001b[0;32mas\u001b[0m \u001b[0msession\u001b[0m\u001b[0;34m:\u001b[0m\u001b[0;34m\u001b[0m\u001b[0;34m\u001b[0m\u001b[0m\n\u001b[0;32m---> 61\u001b[0;31m         \u001b[0;32mreturn\u001b[0m \u001b[0msession\u001b[0m\u001b[0;34m.\u001b[0m\u001b[0mrequest\u001b[0m\u001b[0;34m(\u001b[0m\u001b[0mmethod\u001b[0m\u001b[0;34m=\u001b[0m\u001b[0mmethod\u001b[0m\u001b[0;34m,\u001b[0m \u001b[0murl\u001b[0m\u001b[0;34m=\u001b[0m\u001b[0murl\u001b[0m\u001b[0;34m,\u001b[0m \u001b[0;34m**\u001b[0m\u001b[0mkwargs\u001b[0m\u001b[0;34m)\u001b[0m\u001b[0;34m\u001b[0m\u001b[0;34m\u001b[0m\u001b[0m\n\u001b[0m\u001b[1;32m     62\u001b[0m \u001b[0;34m\u001b[0m\u001b[0m\n\u001b[1;32m     63\u001b[0m \u001b[0;34m\u001b[0m\u001b[0m\n",
      "\u001b[0;32m~/miniconda3/envs/MCC/lib/python3.8/site-packages/requests/sessions.py\u001b[0m in \u001b[0;36mrequest\u001b[0;34m(self, method, url, params, data, headers, cookies, files, auth, timeout, allow_redirects, proxies, hooks, stream, verify, cert, json)\u001b[0m\n\u001b[1;32m    540\u001b[0m         }\n\u001b[1;32m    541\u001b[0m         \u001b[0msend_kwargs\u001b[0m\u001b[0;34m.\u001b[0m\u001b[0mupdate\u001b[0m\u001b[0;34m(\u001b[0m\u001b[0msettings\u001b[0m\u001b[0;34m)\u001b[0m\u001b[0;34m\u001b[0m\u001b[0;34m\u001b[0m\u001b[0m\n\u001b[0;32m--> 542\u001b[0;31m         \u001b[0mresp\u001b[0m \u001b[0;34m=\u001b[0m \u001b[0mself\u001b[0m\u001b[0;34m.\u001b[0m\u001b[0msend\u001b[0m\u001b[0;34m(\u001b[0m\u001b[0mprep\u001b[0m\u001b[0;34m,\u001b[0m \u001b[0;34m**\u001b[0m\u001b[0msend_kwargs\u001b[0m\u001b[0;34m)\u001b[0m\u001b[0;34m\u001b[0m\u001b[0;34m\u001b[0m\u001b[0m\n\u001b[0m\u001b[1;32m    543\u001b[0m \u001b[0;34m\u001b[0m\u001b[0m\n\u001b[1;32m    544\u001b[0m         \u001b[0;32mreturn\u001b[0m \u001b[0mresp\u001b[0m\u001b[0;34m\u001b[0m\u001b[0;34m\u001b[0m\u001b[0m\n",
      "\u001b[0;32m~/miniconda3/envs/MCC/lib/python3.8/site-packages/requests/sessions.py\u001b[0m in \u001b[0;36msend\u001b[0;34m(self, request, **kwargs)\u001b[0m\n\u001b[1;32m    653\u001b[0m \u001b[0;34m\u001b[0m\u001b[0m\n\u001b[1;32m    654\u001b[0m         \u001b[0;31m# Send the request\u001b[0m\u001b[0;34m\u001b[0m\u001b[0;34m\u001b[0m\u001b[0;34m\u001b[0m\u001b[0m\n\u001b[0;32m--> 655\u001b[0;31m         \u001b[0mr\u001b[0m \u001b[0;34m=\u001b[0m \u001b[0madapter\u001b[0m\u001b[0;34m.\u001b[0m\u001b[0msend\u001b[0m\u001b[0;34m(\u001b[0m\u001b[0mrequest\u001b[0m\u001b[0;34m,\u001b[0m \u001b[0;34m**\u001b[0m\u001b[0mkwargs\u001b[0m\u001b[0;34m)\u001b[0m\u001b[0;34m\u001b[0m\u001b[0;34m\u001b[0m\u001b[0m\n\u001b[0m\u001b[1;32m    656\u001b[0m \u001b[0;34m\u001b[0m\u001b[0m\n\u001b[1;32m    657\u001b[0m         \u001b[0;31m# Total elapsed time of the request (approximately)\u001b[0m\u001b[0;34m\u001b[0m\u001b[0;34m\u001b[0m\u001b[0;34m\u001b[0m\u001b[0m\n",
      "\u001b[0;32m~/miniconda3/envs/MCC/lib/python3.8/site-packages/requests/adapters.py\u001b[0m in \u001b[0;36msend\u001b[0;34m(self, request, stream, timeout, verify, cert, proxies)\u001b[0m\n\u001b[1;32m    437\u001b[0m         \u001b[0;32mtry\u001b[0m\u001b[0;34m:\u001b[0m\u001b[0;34m\u001b[0m\u001b[0;34m\u001b[0m\u001b[0m\n\u001b[1;32m    438\u001b[0m             \u001b[0;32mif\u001b[0m \u001b[0;32mnot\u001b[0m \u001b[0mchunked\u001b[0m\u001b[0;34m:\u001b[0m\u001b[0;34m\u001b[0m\u001b[0;34m\u001b[0m\u001b[0m\n\u001b[0;32m--> 439\u001b[0;31m                 resp = conn.urlopen(\n\u001b[0m\u001b[1;32m    440\u001b[0m                     \u001b[0mmethod\u001b[0m\u001b[0;34m=\u001b[0m\u001b[0mrequest\u001b[0m\u001b[0;34m.\u001b[0m\u001b[0mmethod\u001b[0m\u001b[0;34m,\u001b[0m\u001b[0;34m\u001b[0m\u001b[0;34m\u001b[0m\u001b[0m\n\u001b[1;32m    441\u001b[0m                     \u001b[0murl\u001b[0m\u001b[0;34m=\u001b[0m\u001b[0murl\u001b[0m\u001b[0;34m,\u001b[0m\u001b[0;34m\u001b[0m\u001b[0;34m\u001b[0m\u001b[0m\n",
      "\u001b[0;32m~/miniconda3/envs/MCC/lib/python3.8/site-packages/urllib3/connectionpool.py\u001b[0m in \u001b[0;36murlopen\u001b[0;34m(self, method, url, body, headers, retries, redirect, assert_same_host, timeout, pool_timeout, release_conn, chunked, body_pos, **response_kw)\u001b[0m\n\u001b[1;32m    697\u001b[0m \u001b[0;34m\u001b[0m\u001b[0m\n\u001b[1;32m    698\u001b[0m             \u001b[0;31m# Make the request on the httplib connection object.\u001b[0m\u001b[0;34m\u001b[0m\u001b[0;34m\u001b[0m\u001b[0;34m\u001b[0m\u001b[0m\n\u001b[0;32m--> 699\u001b[0;31m             httplib_response = self._make_request(\n\u001b[0m\u001b[1;32m    700\u001b[0m                 \u001b[0mconn\u001b[0m\u001b[0;34m,\u001b[0m\u001b[0;34m\u001b[0m\u001b[0;34m\u001b[0m\u001b[0m\n\u001b[1;32m    701\u001b[0m                 \u001b[0mmethod\u001b[0m\u001b[0;34m,\u001b[0m\u001b[0;34m\u001b[0m\u001b[0;34m\u001b[0m\u001b[0m\n",
      "\u001b[0;32m~/miniconda3/envs/MCC/lib/python3.8/site-packages/urllib3/connectionpool.py\u001b[0m in \u001b[0;36m_make_request\u001b[0;34m(self, conn, method, url, timeout, chunked, **httplib_request_kw)\u001b[0m\n\u001b[1;32m    443\u001b[0m                     \u001b[0;31m# Python 3 (including for exceptions like SystemExit).\u001b[0m\u001b[0;34m\u001b[0m\u001b[0;34m\u001b[0m\u001b[0;34m\u001b[0m\u001b[0m\n\u001b[1;32m    444\u001b[0m                     \u001b[0;31m# Otherwise it looks like a bug in the code.\u001b[0m\u001b[0;34m\u001b[0m\u001b[0;34m\u001b[0m\u001b[0;34m\u001b[0m\u001b[0m\n\u001b[0;32m--> 445\u001b[0;31m                     \u001b[0msix\u001b[0m\u001b[0;34m.\u001b[0m\u001b[0mraise_from\u001b[0m\u001b[0;34m(\u001b[0m\u001b[0me\u001b[0m\u001b[0;34m,\u001b[0m \u001b[0;32mNone\u001b[0m\u001b[0;34m)\u001b[0m\u001b[0;34m\u001b[0m\u001b[0;34m\u001b[0m\u001b[0m\n\u001b[0m\u001b[1;32m    446\u001b[0m         \u001b[0;32mexcept\u001b[0m \u001b[0;34m(\u001b[0m\u001b[0mSocketTimeout\u001b[0m\u001b[0;34m,\u001b[0m \u001b[0mBaseSSLError\u001b[0m\u001b[0;34m,\u001b[0m \u001b[0mSocketError\u001b[0m\u001b[0;34m)\u001b[0m \u001b[0;32mas\u001b[0m \u001b[0me\u001b[0m\u001b[0;34m:\u001b[0m\u001b[0;34m\u001b[0m\u001b[0;34m\u001b[0m\u001b[0m\n\u001b[1;32m    447\u001b[0m             \u001b[0mself\u001b[0m\u001b[0;34m.\u001b[0m\u001b[0m_raise_timeout\u001b[0m\u001b[0;34m(\u001b[0m\u001b[0merr\u001b[0m\u001b[0;34m=\u001b[0m\u001b[0me\u001b[0m\u001b[0;34m,\u001b[0m \u001b[0murl\u001b[0m\u001b[0;34m=\u001b[0m\u001b[0murl\u001b[0m\u001b[0;34m,\u001b[0m \u001b[0mtimeout_value\u001b[0m\u001b[0;34m=\u001b[0m\u001b[0mread_timeout\u001b[0m\u001b[0;34m)\u001b[0m\u001b[0;34m\u001b[0m\u001b[0;34m\u001b[0m\u001b[0m\n",
      "\u001b[0;32m~/miniconda3/envs/MCC/lib/python3.8/site-packages/urllib3/packages/six.py\u001b[0m in \u001b[0;36mraise_from\u001b[0;34m(value, from_value)\u001b[0m\n",
      "\u001b[0;32m~/miniconda3/envs/MCC/lib/python3.8/site-packages/urllib3/connectionpool.py\u001b[0m in \u001b[0;36m_make_request\u001b[0;34m(self, conn, method, url, timeout, chunked, **httplib_request_kw)\u001b[0m\n\u001b[1;32m    438\u001b[0m                 \u001b[0;31m# Python 3\u001b[0m\u001b[0;34m\u001b[0m\u001b[0;34m\u001b[0m\u001b[0;34m\u001b[0m\u001b[0m\n\u001b[1;32m    439\u001b[0m                 \u001b[0;32mtry\u001b[0m\u001b[0;34m:\u001b[0m\u001b[0;34m\u001b[0m\u001b[0;34m\u001b[0m\u001b[0m\n\u001b[0;32m--> 440\u001b[0;31m                     \u001b[0mhttplib_response\u001b[0m \u001b[0;34m=\u001b[0m \u001b[0mconn\u001b[0m\u001b[0;34m.\u001b[0m\u001b[0mgetresponse\u001b[0m\u001b[0;34m(\u001b[0m\u001b[0;34m)\u001b[0m\u001b[0;34m\u001b[0m\u001b[0;34m\u001b[0m\u001b[0m\n\u001b[0m\u001b[1;32m    441\u001b[0m                 \u001b[0;32mexcept\u001b[0m \u001b[0mBaseException\u001b[0m \u001b[0;32mas\u001b[0m \u001b[0me\u001b[0m\u001b[0;34m:\u001b[0m\u001b[0;34m\u001b[0m\u001b[0;34m\u001b[0m\u001b[0m\n\u001b[1;32m    442\u001b[0m                     \u001b[0;31m# Remove the TypeError from the exception chain in\u001b[0m\u001b[0;34m\u001b[0m\u001b[0;34m\u001b[0m\u001b[0;34m\u001b[0m\u001b[0m\n",
      "\u001b[0;32m~/miniconda3/envs/MCC/lib/python3.8/http/client.py\u001b[0m in \u001b[0;36mgetresponse\u001b[0;34m(self)\u001b[0m\n\u001b[1;32m   1346\u001b[0m         \u001b[0;32mtry\u001b[0m\u001b[0;34m:\u001b[0m\u001b[0;34m\u001b[0m\u001b[0;34m\u001b[0m\u001b[0m\n\u001b[1;32m   1347\u001b[0m             \u001b[0;32mtry\u001b[0m\u001b[0;34m:\u001b[0m\u001b[0;34m\u001b[0m\u001b[0;34m\u001b[0m\u001b[0m\n\u001b[0;32m-> 1348\u001b[0;31m                 \u001b[0mresponse\u001b[0m\u001b[0;34m.\u001b[0m\u001b[0mbegin\u001b[0m\u001b[0;34m(\u001b[0m\u001b[0;34m)\u001b[0m\u001b[0;34m\u001b[0m\u001b[0;34m\u001b[0m\u001b[0m\n\u001b[0m\u001b[1;32m   1349\u001b[0m             \u001b[0;32mexcept\u001b[0m \u001b[0mConnectionError\u001b[0m\u001b[0;34m:\u001b[0m\u001b[0;34m\u001b[0m\u001b[0;34m\u001b[0m\u001b[0m\n\u001b[1;32m   1350\u001b[0m                 \u001b[0mself\u001b[0m\u001b[0;34m.\u001b[0m\u001b[0mclose\u001b[0m\u001b[0;34m(\u001b[0m\u001b[0;34m)\u001b[0m\u001b[0;34m\u001b[0m\u001b[0;34m\u001b[0m\u001b[0m\n",
      "\u001b[0;32m~/miniconda3/envs/MCC/lib/python3.8/http/client.py\u001b[0m in \u001b[0;36mbegin\u001b[0;34m(self)\u001b[0m\n\u001b[1;32m    314\u001b[0m         \u001b[0;31m# read until we get a non-100 response\u001b[0m\u001b[0;34m\u001b[0m\u001b[0;34m\u001b[0m\u001b[0;34m\u001b[0m\u001b[0m\n\u001b[1;32m    315\u001b[0m         \u001b[0;32mwhile\u001b[0m \u001b[0;32mTrue\u001b[0m\u001b[0;34m:\u001b[0m\u001b[0;34m\u001b[0m\u001b[0;34m\u001b[0m\u001b[0m\n\u001b[0;32m--> 316\u001b[0;31m             \u001b[0mversion\u001b[0m\u001b[0;34m,\u001b[0m \u001b[0mstatus\u001b[0m\u001b[0;34m,\u001b[0m \u001b[0mreason\u001b[0m \u001b[0;34m=\u001b[0m \u001b[0mself\u001b[0m\u001b[0;34m.\u001b[0m\u001b[0m_read_status\u001b[0m\u001b[0;34m(\u001b[0m\u001b[0;34m)\u001b[0m\u001b[0;34m\u001b[0m\u001b[0;34m\u001b[0m\u001b[0m\n\u001b[0m\u001b[1;32m    317\u001b[0m             \u001b[0;32mif\u001b[0m \u001b[0mstatus\u001b[0m \u001b[0;34m!=\u001b[0m \u001b[0mCONTINUE\u001b[0m\u001b[0;34m:\u001b[0m\u001b[0;34m\u001b[0m\u001b[0;34m\u001b[0m\u001b[0m\n\u001b[1;32m    318\u001b[0m                 \u001b[0;32mbreak\u001b[0m\u001b[0;34m\u001b[0m\u001b[0;34m\u001b[0m\u001b[0m\n",
      "\u001b[0;32m~/miniconda3/envs/MCC/lib/python3.8/http/client.py\u001b[0m in \u001b[0;36m_read_status\u001b[0;34m(self)\u001b[0m\n\u001b[1;32m    275\u001b[0m \u001b[0;34m\u001b[0m\u001b[0m\n\u001b[1;32m    276\u001b[0m     \u001b[0;32mdef\u001b[0m \u001b[0m_read_status\u001b[0m\u001b[0;34m(\u001b[0m\u001b[0mself\u001b[0m\u001b[0;34m)\u001b[0m\u001b[0;34m:\u001b[0m\u001b[0;34m\u001b[0m\u001b[0;34m\u001b[0m\u001b[0m\n\u001b[0;32m--> 277\u001b[0;31m         \u001b[0mline\u001b[0m \u001b[0;34m=\u001b[0m \u001b[0mstr\u001b[0m\u001b[0;34m(\u001b[0m\u001b[0mself\u001b[0m\u001b[0;34m.\u001b[0m\u001b[0mfp\u001b[0m\u001b[0;34m.\u001b[0m\u001b[0mreadline\u001b[0m\u001b[0;34m(\u001b[0m\u001b[0m_MAXLINE\u001b[0m \u001b[0;34m+\u001b[0m \u001b[0;36m1\u001b[0m\u001b[0;34m)\u001b[0m\u001b[0;34m,\u001b[0m \u001b[0;34m\"iso-8859-1\"\u001b[0m\u001b[0;34m)\u001b[0m\u001b[0;34m\u001b[0m\u001b[0;34m\u001b[0m\u001b[0m\n\u001b[0m\u001b[1;32m    278\u001b[0m         \u001b[0;32mif\u001b[0m \u001b[0mlen\u001b[0m\u001b[0;34m(\u001b[0m\u001b[0mline\u001b[0m\u001b[0;34m)\u001b[0m \u001b[0;34m>\u001b[0m \u001b[0m_MAXLINE\u001b[0m\u001b[0;34m:\u001b[0m\u001b[0;34m\u001b[0m\u001b[0;34m\u001b[0m\u001b[0m\n\u001b[1;32m    279\u001b[0m             \u001b[0;32mraise\u001b[0m \u001b[0mLineTooLong\u001b[0m\u001b[0;34m(\u001b[0m\u001b[0;34m\"status line\"\u001b[0m\u001b[0;34m)\u001b[0m\u001b[0;34m\u001b[0m\u001b[0;34m\u001b[0m\u001b[0m\n",
      "\u001b[0;32m~/miniconda3/envs/MCC/lib/python3.8/socket.py\u001b[0m in \u001b[0;36mreadinto\u001b[0;34m(self, b)\u001b[0m\n\u001b[1;32m    667\u001b[0m         \u001b[0;32mwhile\u001b[0m \u001b[0;32mTrue\u001b[0m\u001b[0;34m:\u001b[0m\u001b[0;34m\u001b[0m\u001b[0;34m\u001b[0m\u001b[0m\n\u001b[1;32m    668\u001b[0m             \u001b[0;32mtry\u001b[0m\u001b[0;34m:\u001b[0m\u001b[0;34m\u001b[0m\u001b[0;34m\u001b[0m\u001b[0m\n\u001b[0;32m--> 669\u001b[0;31m                 \u001b[0;32mreturn\u001b[0m \u001b[0mself\u001b[0m\u001b[0;34m.\u001b[0m\u001b[0m_sock\u001b[0m\u001b[0;34m.\u001b[0m\u001b[0mrecv_into\u001b[0m\u001b[0;34m(\u001b[0m\u001b[0mb\u001b[0m\u001b[0;34m)\u001b[0m\u001b[0;34m\u001b[0m\u001b[0;34m\u001b[0m\u001b[0m\n\u001b[0m\u001b[1;32m    670\u001b[0m             \u001b[0;32mexcept\u001b[0m \u001b[0mtimeout\u001b[0m\u001b[0;34m:\u001b[0m\u001b[0;34m\u001b[0m\u001b[0;34m\u001b[0m\u001b[0m\n\u001b[1;32m    671\u001b[0m                 \u001b[0mself\u001b[0m\u001b[0;34m.\u001b[0m\u001b[0m_timeout_occurred\u001b[0m \u001b[0;34m=\u001b[0m \u001b[0;32mTrue\u001b[0m\u001b[0;34m\u001b[0m\u001b[0;34m\u001b[0m\u001b[0m\n",
      "\u001b[0;32m~/miniconda3/envs/MCC/lib/python3.8/ssl.py\u001b[0m in \u001b[0;36mrecv_into\u001b[0;34m(self, buffer, nbytes, flags)\u001b[0m\n\u001b[1;32m   1239\u001b[0m                   \u001b[0;34m\"non-zero flags not allowed in calls to recv_into() on %s\"\u001b[0m \u001b[0;34m%\u001b[0m\u001b[0;34m\u001b[0m\u001b[0;34m\u001b[0m\u001b[0m\n\u001b[1;32m   1240\u001b[0m                   self.__class__)\n\u001b[0;32m-> 1241\u001b[0;31m             \u001b[0;32mreturn\u001b[0m \u001b[0mself\u001b[0m\u001b[0;34m.\u001b[0m\u001b[0mread\u001b[0m\u001b[0;34m(\u001b[0m\u001b[0mnbytes\u001b[0m\u001b[0;34m,\u001b[0m \u001b[0mbuffer\u001b[0m\u001b[0;34m)\u001b[0m\u001b[0;34m\u001b[0m\u001b[0;34m\u001b[0m\u001b[0m\n\u001b[0m\u001b[1;32m   1242\u001b[0m         \u001b[0;32melse\u001b[0m\u001b[0;34m:\u001b[0m\u001b[0;34m\u001b[0m\u001b[0;34m\u001b[0m\u001b[0m\n\u001b[1;32m   1243\u001b[0m             \u001b[0;32mreturn\u001b[0m \u001b[0msuper\u001b[0m\u001b[0;34m(\u001b[0m\u001b[0;34m)\u001b[0m\u001b[0;34m.\u001b[0m\u001b[0mrecv_into\u001b[0m\u001b[0;34m(\u001b[0m\u001b[0mbuffer\u001b[0m\u001b[0;34m,\u001b[0m \u001b[0mnbytes\u001b[0m\u001b[0;34m,\u001b[0m \u001b[0mflags\u001b[0m\u001b[0;34m)\u001b[0m\u001b[0;34m\u001b[0m\u001b[0;34m\u001b[0m\u001b[0m\n",
      "\u001b[0;32m~/miniconda3/envs/MCC/lib/python3.8/ssl.py\u001b[0m in \u001b[0;36mread\u001b[0;34m(self, len, buffer)\u001b[0m\n\u001b[1;32m   1097\u001b[0m         \u001b[0;32mtry\u001b[0m\u001b[0;34m:\u001b[0m\u001b[0;34m\u001b[0m\u001b[0;34m\u001b[0m\u001b[0m\n\u001b[1;32m   1098\u001b[0m             \u001b[0;32mif\u001b[0m \u001b[0mbuffer\u001b[0m \u001b[0;32mis\u001b[0m \u001b[0;32mnot\u001b[0m \u001b[0;32mNone\u001b[0m\u001b[0;34m:\u001b[0m\u001b[0;34m\u001b[0m\u001b[0;34m\u001b[0m\u001b[0m\n\u001b[0;32m-> 1099\u001b[0;31m                 \u001b[0;32mreturn\u001b[0m \u001b[0mself\u001b[0m\u001b[0;34m.\u001b[0m\u001b[0m_sslobj\u001b[0m\u001b[0;34m.\u001b[0m\u001b[0mread\u001b[0m\u001b[0;34m(\u001b[0m\u001b[0mlen\u001b[0m\u001b[0;34m,\u001b[0m \u001b[0mbuffer\u001b[0m\u001b[0;34m)\u001b[0m\u001b[0;34m\u001b[0m\u001b[0;34m\u001b[0m\u001b[0m\n\u001b[0m\u001b[1;32m   1100\u001b[0m             \u001b[0;32melse\u001b[0m\u001b[0;34m:\u001b[0m\u001b[0;34m\u001b[0m\u001b[0;34m\u001b[0m\u001b[0m\n\u001b[1;32m   1101\u001b[0m                 \u001b[0;32mreturn\u001b[0m \u001b[0mself\u001b[0m\u001b[0;34m.\u001b[0m\u001b[0m_sslobj\u001b[0m\u001b[0;34m.\u001b[0m\u001b[0mread\u001b[0m\u001b[0;34m(\u001b[0m\u001b[0mlen\u001b[0m\u001b[0;34m)\u001b[0m\u001b[0;34m\u001b[0m\u001b[0;34m\u001b[0m\u001b[0m\n",
      "\u001b[0;31mKeyboardInterrupt\u001b[0m: "
     ]
    }
   ],
   "source": [
    "balancer = MCC.MassChargeCuration(model = model, data_path = \"./data\", run_optimization = True, update_ids = False)"
   ]
  },
  {
   "cell_type": "markdown",
   "id": "869e5e59-93f2-4e66-88b6-130cea9ae10e",
   "metadata": {},
   "source": [
    "## Evaluating the result\n",
    "To see the results at a first glance, we can generate a quick visual report, which tells us how many reactions are balanced now, and how many assignments were changed."
   ]
  },
  {
   "cell_type": "code",
   "execution_count": null,
   "id": "18e548a1-2d9d-4a64-8321-f8a06ab03e4c",
   "metadata": {},
   "outputs": [],
   "source": [
    "balancer.generate_visual_report().show()"
   ]
  },
  {
   "cell_type": "markdown",
   "id": "903e589c-9a42-4378-85e8-cedd6aca5555",
   "metadata": {},
   "source": [
    "### Metabolite Report\n",
    "The algorithm should be able to give a reason for every assignment that it chooses. We can have a look at these reasons in the metabolite report of the balancer.\n",
    "\n",
    "The report holds valuable information how the algorithm decided which assignment to choose and can be useful during further manual curation. The entries of the resulting DataFrame are the following:\n",
    "* **Id**: Id of the metabolite in the model.\n",
    "* **Name**: Name of the metabolite in the model.\n",
    "* **Determined Formula**: Formula that was assigned by the algorithm.\n",
    "* **Determined Charge**: Charge that was assigned by the algorithm.\n",
    "* **Previous Formula**: Formula that was assigned before the algorithm.\n",
    "* **Previous Charge**: Charge that was assigned before the algorithm.\n",
    "* **Inferrence Type**: Category of how the assignment was determined.\n",
    "    - Unconstrained: No information about the metabolite was found or only incomplete (wildcard containing) formulae were found and we could not find a concrete formula either. Should contain a wildcard.\n",
    "    - Inferred: No information about the metabolite was found or only incomplete (wildcard containing formulae were found, however we arrived at a concrete formula. Should not contain a wildcard.\n",
    "    - Clean: Information about the metabolite was found and used.\n",
    "* **Reasoning**: Reasoning how the assignment was determined. Can contain:\n",
    "    - database name:database identifier: The formula could be found in this database under this identifier.\n",
    "    - (unconstrained) Target: This assignment was chosen because it is the same as in the original (target) model. Unconstrained means that the original (target) model seemed to be missing a wildcard symbol that was thus added.\n",
    "    - Reaction_id (metabolite id -> Reasoning...): The assignment for this metabolite must follow from other reasons. The given reaction id and metabolite reasons make it so that if the model must be balanced, this metabolite must have the determined assignment.\n",
    "    - Used Databases: The databases which back up the determined assignment.\n",
    "    - Previous Databases: The databases which back up the previous assignment."
   ]
  },
  {
   "cell_type": "code",
   "execution_count": null,
   "id": "4d9d2df1-2413-422f-a402-d25c69e27cf4",
   "metadata": {
    "tags": []
   },
   "outputs": [],
   "source": [
    "metabolite_report_df = balancer.generate_metabolite_report()\n",
    "metabolite_report_df[::200]"
   ]
  },
  {
   "cell_type": "markdown",
   "id": "292a65e7-f364-4bdd-8134-9b9764d8a79c",
   "metadata": {},
   "source": [
    "Usually we are interested in the assignments which differ from the original report. We can do this by indexing the Dataframe accordingly."
   ]
  },
  {
   "cell_type": "code",
   "execution_count": null,
   "id": "5bb1b358-6a9f-45f5-a4c2-ae85c54ae695",
   "metadata": {
    "tags": []
   },
   "outputs": [],
   "source": [
    "# If you like to see the entire report, uncomment the following line\n",
    "#pandas.set_option(\"display.max_row\", None)\n",
    "metabolite_report_df[metabolite_report_df[\"Similarity\"] != \"Same\"]"
   ]
  },
  {
   "cell_type": "markdown",
   "id": "31f559df-329d-4cc8-9b65-1ce6711f432f",
   "metadata": {},
   "source": [
    "We might also be interested in all assignments which are not backed by a database:"
   ]
  },
  {
   "cell_type": "code",
   "execution_count": null,
   "id": "afeed4e7-e720-4628-9cb4-770d5a25ea39",
   "metadata": {},
   "outputs": [],
   "source": [
    "metabolite_report_df[metabolite_report_df[\"Used Databases\"] == \"\"]"
   ]
  },
  {
   "cell_type": "markdown",
   "id": "e18e1ca0-d1b6-402a-a856-f8a080a0d929",
   "metadata": {},
   "source": [
    "### Reaction Report\n",
    "Finally, especially for further curation, we might be interested in the remaining imbalanced reactions. For this the algorithm can also provide a report.\n",
    "\n",
    "The report also includes reactions which are technically balanced but where many protons had to be added to arrive at that result.\n",
    "\n",
    "The fields are as follows:\n",
    "* **Id**: Id of the reaction in the model.\n",
    "* **Unbalanced Reaction**: Name of the reaction in the model and corresponding equation.\n",
    "* **Unbalanced Type**: Type of imbalance. Can be both Mass and charge, only mass, only charge or high proton count.\n",
    "* **Reason**: Set of reactions which caused the reaction to be imbalanced. This effectively means that these reactions could not be balanced together. The sets are minimal, but for example for BTS2, it would not help to remove HCYSMT, as BTS2 would require protons to have no charge and HCYSMT is only one of many reactions which then would not be balanced.\n",
    "* **Shared Metabolites**: Metabolites which are shared between the reactions which are listed in Reason. Can give an indication where the problem might lie.\n",
    "* **Mass Difference**: Mass imbalance.\n",
    "* **Charge Difference**: Charge imbalance."
   ]
  },
  {
   "cell_type": "code",
   "execution_count": null,
   "id": "9bc80025-9469-42b2-8964-863fca806d88",
   "metadata": {},
   "outputs": [],
   "source": [
    "balancer.generate_reaction_report()"
   ]
  },
  {
   "cell_type": "markdown",
   "id": "7ae16dc6-a0aa-48ea-b676-9c43a98f142a",
   "metadata": {},
   "source": [
    "### Writing Files\n",
    "The mass charge curation writes directly to the model that was given to it. Thus, if we want to write our model, we can just pass the model to cobrapy. If you want to keep your old model, you should make sure to not overwrite it here."
   ]
  },
  {
   "cell_type": "code",
   "execution_count": null,
   "id": "752a82d6-6850-4f67-b91d-1377727659a3",
   "metadata": {},
   "outputs": [],
   "source": [
    "balancer.model_interface.write_model(\"model_MCC.xml\")"
   ]
  },
  {
   "cell_type": "markdown",
   "id": "d71ff901-d472-428f-9bcd-5c536e9b6528",
   "metadata": {},
   "source": [
    "For the reports, we can add filenames to the functions to write the visual report to a .png file and the metabolite and reaction DataFrames to .csv files."
   ]
  },
  {
   "cell_type": "code",
   "execution_count": null,
   "id": "1c5819b2-2e1a-4fe9-95b8-bf0a8de02c39",
   "metadata": {},
   "outputs": [],
   "source": [
    "balancer.generate_visual_report(f\"{model.id}_visual\")\n",
    "balancer.generate_metabolite_report(f\"{model.id}_metabolites\")\n",
    "balancer.generate_reaction_report(f\"{model.id}_reactions\")\n",
    "pass"
   ]
  },
  {
   "cell_type": "markdown",
   "id": "b3011e07-0240-46b4-9803-2d5a14156c15",
   "metadata": {},
   "source": [
    "## Fixing Assignments\n",
    "For some metabolites we might want to fix their assignment, based on some knowledge that is not encoded in the used databases or is not used as it will yield a (theoretically) suboptimal result. We can do this by passing a dictionary mapping the metabolites id to the fixed assignment. If, for example, we want the metabolite with the id \"M_h2o_c\" to have the certain formula \"CO2\" and charge of 5 and the metabolite with the id \"M_h_c\" have a formula of \"C5\" and a charge of -7, we can tell this to our algorithm in the following way:"
   ]
  },
  {
   "cell_type": "code",
   "execution_count": 11,
   "id": "9feb98d5-fa91-46f0-a042-f13d84bc485c",
   "metadata": {},
   "outputs": [
    {
     "name": "stderr",
     "output_type": "stream",
     "text": [
      "WARNING:root:Could not find charge for metabolite M_hmbpp_c. Setting it to 0.\n",
      "WARNING:root:Could not find charge for metabolite M_tntmmh_c. Setting it to 0.\n",
      "WARNING:root:Could not find charge for metabolite M_2agpe161_c. Setting it to 0.\n",
      "WARNING:root:Could not find charge for metabolite M_R_3hphxa_c. Setting it to 0.\n",
      "WARNING:root:Could not find charge for metabolite M_R_3hphxacoa_c. Setting it to 0.\n",
      "WARNING:root:Could not find charge for metabolite M_abg4_e. Setting it to 0.\n",
      "WARNING:root:Could not find charge for metabolite M_air_c. Setting it to 0.\n",
      "WARNING:root:Could not find charge for metabolite M_ala_L_thr__L_e. Setting it to 0.\n",
      "WARNING:root:Could not find charge for metabolite M_ala_gln_e. Setting it to 0.\n",
      "WARNING:root:Could not find charge for metabolite M_ala_his_e. Setting it to 0.\n",
      "WARNING:root:Could not find charge for metabolite M_ala_leu_e. Setting it to 0.\n",
      "WARNING:root:Could not find charge for metabolite M_alagly_e. Setting it to 0.\n",
      "WARNING:root:Could not find charge for metabolite M_alahis_e. Setting it to 0.\n",
      "WARNING:root:Could not find charge for metabolite M_alaleu_e. Setting it to 0.\n",
      "WARNING:root:Could not find charge for metabolite M_alathr_e. Setting it to 0.\n",
      "WARNING:root:Could not find charge for metabolite M_alatrp_e. Setting it to 0.\n",
      "WARNING:root:Could not find charge for metabolite M_fpram_c. Setting it to 0.\n",
      "WARNING:root:Could not find charge for metabolite M_gly_cys_c. Setting it to 0.\n",
      "WARNING:root:Could not find charge for metabolite M_gly_cys_e. Setting it to 0.\n",
      "WARNING:root:Could not find charge for metabolite M_gly_gln_e. Setting it to 0.\n",
      "WARNING:root:Could not find charge for metabolite M_gly_leu_c. Setting it to 0.\n",
      "WARNING:root:Could not find charge for metabolite M_gly_leu_e. Setting it to 0.\n",
      "WARNING:root:Could not find charge for metabolite M_gly_met_e. Setting it to 0.\n",
      "WARNING:root:Could not find charge for metabolite M_gly_phe_c. Setting it to 0.\n",
      "WARNING:root:Could not find charge for metabolite M_gly_phe_e. Setting it to 0.\n",
      "WARNING:root:Could not find charge for metabolite M_gly_tyr_c. Setting it to 0.\n",
      "WARNING:root:Could not find charge for metabolite M_gly_tyr_e. Setting it to 0.\n",
      "WARNING:root:Could not find charge for metabolite M_glygln_e. Setting it to 0.\n",
      "WARNING:root:Could not find charge for metabolite M_glyglu_e. Setting it to 0.\n",
      "WARNING:root:Could not find charge for metabolite M_glyglygln_e. Setting it to 0.\n",
      "WARNING:root:Could not find charge for metabolite M_glymet_e. Setting it to 0.\n",
      "WARNING:root:Could not find charge for metabolite M_glyser_e. Setting it to 0.\n",
      "WARNING:root:Could not find charge for metabolite M_hdcea_c. Setting it to 0.\n",
      "WARNING:root:Could not find charge for metabolite M_hisgly_e. Setting it to 0.\n",
      "WARNING:root:Could not find charge for metabolite M_hishis_e. Setting it to 0.\n",
      "WARNING:root:Could not find charge for metabolite M_lgt_s_c. Setting it to 0.\n",
      "WARNING:root:Could not find charge for metabolite M_lysglugly_e. Setting it to 0.\n",
      "WARNING:root:Could not find charge for metabolite M_nadhx__S_c. Setting it to 0.\n",
      "WARNING:root:Could not find charge for metabolite M_nadphx__S_c. Setting it to 0.\n",
      "WARNING:root:Could not find charge for metabolite M_nonacoa_c. Setting it to 0.\n",
      "WARNING:root:Could not find charge for metabolite M_pea_c. Setting it to 0.\n",
      "WARNING:root:Could not find charge for metabolite M_pea_e. Setting it to 0.\n",
      "WARNING:root:Could not find charge for metabolite M_serglugly_e. Setting it to 0.\n",
      "WARNING:root:Could not find charge for metabolite M_ugmd_c. Setting it to 0.\n"
     ]
    }
   ],
   "source": [
    "fixed_assignments = {\"M_h2o_c\" : (\"CO2\", 5), \"M_h_c\" : (\"C5\", -7)}\n",
    "balancer = MCC.MassChargeCuration(model = model, data_path = \"./data\", run_optimization = True, update_ids = False, fixed_assignments = fixed_assignments)"
   ]
  },
  {
   "cell_type": "code",
   "execution_count": 12,
   "id": "81f2b961-949b-4d70-a1f1-b253a7cb1cb2",
   "metadata": {},
   "outputs": [
    {
     "name": "stdout",
     "output_type": "stream",
     "text": [
      "There are 963 unbalanced reactions with 196 pseudo reactions.\n"
     ]
    }
   ],
   "source": [
    "unbalanced_reactions = [r_id for r_id, r in balancer.model_interface.reactions.items() if (not r.is_balanced())]\n",
    "print(f\"There are {len(unbalanced_reactions)} unbalanced reactions with {len(balancer.model_interface.get_pseudo_reactions())} pseudo reactions.\")"
   ]
  },
  {
   "cell_type": "code",
   "execution_count": 13,
   "id": "2d254f3d-9c4c-4d0e-8c6a-65eb2e9b1b56",
   "metadata": {},
   "outputs": [
    {
     "data": {
      "text/plain": [
       "Metabolite(id='M_h2o_c', name='H2O H2O', formula=CO2, charge=5, SBO=247)"
      ]
     },
     "execution_count": 13,
     "metadata": {},
     "output_type": "execute_result"
    }
   ],
   "source": [
    "balancer.model_interface.metabolites[\"M_h2o_c\"]"
   ]
  },
  {
   "cell_type": "code",
   "execution_count": 14,
   "id": "af87985c-4983-489d-8dec-40a34d8c40fd",
   "metadata": {},
   "outputs": [
    {
     "data": {
      "text/plain": [
       "Metabolite(id='M_h_c', name='H+', formula=C5, charge=-7, SBO=247)"
      ]
     },
     "execution_count": 14,
     "metadata": {},
     "output_type": "execute_result"
    }
   ],
   "source": [
    "balancer.model_interface.metabolites[\"M_h_c\"]"
   ]
  },
  {
   "cell_type": "markdown",
   "id": "9d7856ab-61bb-45bb-bd75-2961b748827c",
   "metadata": {},
   "source": [
    "We can see that setting strange values for water and hydrogen will make many reactions unbalancable but that the balancer adheres to the fixed values."
   ]
  },
  {
   "cell_type": "markdown",
   "id": "f6879a8d-909d-457b-ac9f-d96e3572e55d",
   "metadata": {},
   "source": [
    "## Using BioCyc flat files\n",
    "If you have access (currently requires an explicit academic license or a subscription) and downloaded the BioCyc flat files, you can pass the corresponding directory as well. Assuming we have already updated all the ids in the last step, we can set _update_ids_ to _False_.\n",
    "\n",
    "The additional argument is:\n",
    "* **biocyc_path**: Directory containing BioCyc flat files."
   ]
  },
  {
   "cell_type": "code",
   "execution_count": null,
   "id": "8c53fdd1-92ec-432f-8fb5-dd4b79afa2d7",
   "metadata": {},
   "outputs": [],
   "source": [
    "balancer = MCC.MassChargeCuration(model = model, data_path = \"./data\", update_ids = True, biocyc_path = \"./data/23.5/data\")"
   ]
  }
 ],
 "metadata": {
  "kernelspec": {
   "display_name": "Python 3",
   "language": "python",
   "name": "python3"
  },
  "language_info": {
   "codemirror_mode": {
    "name": "ipython",
    "version": 3
   },
   "file_extension": ".py",
   "mimetype": "text/x-python",
   "name": "python",
   "nbconvert_exporter": "python",
   "pygments_lexer": "ipython3",
   "version": "3.8.12"
  }
 },
 "nbformat": 4,
 "nbformat_minor": 5
}
